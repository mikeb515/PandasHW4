{
 "cells": [
  {
   "cell_type": "code",
   "execution_count": null,
   "metadata": {},
   "outputs": [],
   "source": [
    "import pandas as pd\n",
    "import numpy as nm"
   ]
  },
  {
   "cell_type": "code",
   "execution_count": null,
   "metadata": {},
   "outputs": [],
   "source": [
    "gamer_data = pd.read_csv(\"C:/Users/Mike/Desktop/UCIRV201810DATA4/Homeworks/HW04-Pandas/HeroesOfPymoli/Resources/purchase_data.csv\")"
   ]
  },
  {
   "cell_type": "code",
   "execution_count": null,
   "metadata": {},
   "outputs": [],
   "source": [
    "gamer_data.head()"
   ]
  },
  {
   "cell_type": "code",
   "execution_count": null,
   "metadata": {},
   "outputs": [],
   "source": [
    "players = gamer_data['SN'].value_counts()\n",
    "print(\"Number of Players:\", len(players))"
   ]
  },
  {
   "cell_type": "code",
   "execution_count": null,
   "metadata": {},
   "outputs": [],
   "source": [
    "#items = len(gamer_data['Item ID'].unique()) (this code shows the right data but not in a dataframe output)\n",
    "#price = (gamer_data['Price'].mean())\n",
    "#purchases = gamer_data['Purchase ID'].count()\n",
    "#revenue = gamer_data['Price'].sum()\n",
    "#Having an issue filtering out the dupes.  Hussain helped before, but the I removed the code he helped with and now I'm stuck at this point.  I can print a complete list but as soon as I add len to the first line get the error below.  Don't know how to fix\n",
    "\n",
    "items = len(gamer_data['Item ID'].unique())\n",
    "purchase_count = gamer_data.count()['Purchase ID']\n",
    "average_purchase = gamer_data.mean()[\"Price\"]\n",
    "total_purchase= gamer_data.sum()['Price']\n",
    "\n",
    "\n",
    "\n",
    "general_spending = pd.DataFrame({'Items': items, 'Average Purchase': average_purchase, 'Total Purchase Value': total_purchase, \"Avg Purchase per Person\": avg_purchase_person})\n",
    "general_spending"
   ]
  },
  {
   "cell_type": "code",
   "execution_count": null,
   "metadata": {},
   "outputs": [],
   "source": [
    "gender_percentages = []\n",
    "\n",
    "dd_gamer_data = gamer_data.drop_duplicates('SN')\n",
    "gender_counts = dd_gamer_data[\"Gender\"].value_counts()\n",
    "\n",
    "total = sum(gender_counts)\n",
    "for count in gender_counts:\n",
    "    gender_percentages.append((100 * count) / total)\n",
    "    \n",
    "gender_df = pd.DataFrame({'Total Count': gender_counts, 'Percentage of Players': gender_percentages})\n",
    "gender_df"
   ]
  },
  {
   "cell_type": "code",
   "execution_count": null,
   "metadata": {},
   "outputs": [],
   "source": [
    "purchase_count_gender = gamer_data.groupby('Gender').count()['Purchase ID']\n",
    "average_purchase_gender = gamer_data.groupby('Gender').mean()[\"Price\"]\n",
    "total_purchase_value = gamer_data.groupby('Gender').sum()['Price']\n",
    "avg_purchase_gender_person = gamer_data.groupby('Gender').mean()['Price']\n",
    "\n",
    "\n",
    "demographics_spending = pd.DataFrame({'Purchase Count': purchase_count_gender, 'Average Purchase': average_purchase_gender, 'Total Purchase Value': total_purchase_value, \"Avg Purchase per Person\": avg_purchase_gender_person})\n",
    "demographics_spending"
   ]
  },
  {
   "cell_type": "code",
   "execution_count": null,
   "metadata": {},
   "outputs": [],
   "source": []
  },
  {
   "cell_type": "code",
   "execution_count": null,
   "metadata": {},
   "outputs": [],
   "source": [
    "#This is as far as a i got.  If if remove the bins logic the other parts seem to look ok.  I think my error is in this part:\n",
    "#age_spending = [\"age_demo_spending\"]= pd.cut(df[\"\"], bins, labels=age_groups)\n",
    "# similar as above, I'm not how to respond to error message.\n",
    "\n",
    "bins = [0, 10, 15, 20, 25, 30, 35, 40, 45, 49, 50]\n",
    "age_groups = [\"Under 10\", \"10-14\", \"15-19\", \"20-24\", \"25-29\", \"30-34\", \"35-39\", \"40-44\", \"45-49\", \"50 and over\"]\n",
    "\n",
    "purchase_count_age = gamer_data.groupby('Age').count()['Purchase ID']\n",
    "average_purchase_age = gamer_data.groupby('Age').mean()[\"Price\"]\n",
    "total_purchase_age = gamer_data.groupby('Age').sum()['Price']\n",
    "avg_purchase_age_person = gamer_data.groupby('Age').mean()['Price']\n",
    "\n",
    "age_spending = pd.DataFrame({'Purchase Count': purchase_count_age, 'Average Purchase': average_purchase_age, 'Total Purchase Value': total_purchase_age, \"Avg Purchase per Person\": avg_purchase_age_person})\n",
    "\n",
    "age_spending = [age_demo_spending]= pd.cut(df[age_groups], bins, labels=age_groups)\n",
    "\n"
   ]
  },
  {
   "cell_type": "code",
   "execution_count": null,
   "metadata": {},
   "outputs": [],
   "source": [
    "top_transactions = gamer_data[\"Price\"].value_counts()\n",
    "top_transactions"
   ]
  },
  {
   "cell_type": "code",
   "execution_count": null,
   "metadata": {},
   "outputs": [],
   "source": []
  }
 ],
 "metadata": {
  "kernelspec": {
   "display_name": "Python 3",
   "language": "python",
   "name": "python3"
  },
  "language_info": {
   "codemirror_mode": {
    "name": "ipython",
    "version": 3
   },
   "file_extension": ".py",
   "mimetype": "text/x-python",
   "name": "python",
   "nbconvert_exporter": "python",
   "pygments_lexer": "ipython3",
   "version": "3.7.0"
  }
 },
 "nbformat": 4,
 "nbformat_minor": 2
}
